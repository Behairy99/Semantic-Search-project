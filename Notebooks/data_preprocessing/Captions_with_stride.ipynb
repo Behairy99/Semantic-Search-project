{
  "nbformat": 4,
  "nbformat_minor": 0,
  "metadata": {
    "colab": {
      "provenance": [],
      "include_colab_link": true
    },
    "kernelspec": {
      "name": "python3",
      "display_name": "Python 3"
    },
    "language_info": {
      "name": "python"
    }
  },
  "cells": [
    {
      "cell_type": "markdown",
      "metadata": {
        "id": "view-in-github",
        "colab_type": "text"
      },
      "source": [
        "<a href=\"https://colab.research.google.com/github/NeTrOn404/Semantic-Search-project/blob/YoutubeCaptionWithStride/Notebooks/data_preprocessing/Captions_with_stride.ipynb\" target=\"_parent\"><img src=\"https://colab.research.google.com/assets/colab-badge.svg\" alt=\"Open In Colab\"/></a>"
      ]
    },
    {
      "cell_type": "code",
      "execution_count": null,
      "metadata": {
        "colab": {
          "base_uri": "https://localhost:8080/"
        },
        "id": "O8PWJyDRrrks",
        "outputId": "1a280ea4-789a-45e5-ee31-0005e8d6081c"
      },
      "outputs": [
        {
          "output_type": "stream",
          "name": "stdout",
          "text": [
            "Mounted at /content/drive\n"
          ]
        }
      ],
      "source": [
        "from google.colab import drive\n",
        "drive.mount('/content/drive')"
      ]
    },
    {
      "cell_type": "code",
      "source": [
        "import json\n",
        "with open('/content/drive/MyDrive/Youtube_captions/Captions/PLUl4u3cNGP619EG1wp0kT-7rDE_Az5TNd.json') as json_file:\n",
        "    playlist_captions = json.load(json_file)\n"
      ],
      "metadata": {
        "id": "v7fh4P77wIXO"
      },
      "execution_count": null,
      "outputs": []
    },
    {
      "cell_type": "code",
      "source": [
        "playlist_captions"
      ],
      "metadata": {
        "id": "5gh-kRaJweKs"
      },
      "execution_count": null,
      "outputs": []
    },
    {
      "cell_type": "code",
      "source": [
        "def combine_processed(caps):\n",
        "      for cap in caps :\n",
        "        ton=[]\n",
        "        bag={}\n",
        "        tex=''\n",
        "        tex_off =''\n",
        "        sta_off=0\n",
        "        sta =0\n",
        "        SenCou=0\n",
        "        s=0\n",
        "        dur=0\n",
        "        for j in range(len(cap['video_captions'])):\n",
        "          if len(ton) > 0:\n",
        "            di =cap['video_captions'][j]\n",
        "            if SenCou <3:                              \n",
        "              if '.' not in list(di.values())[0]: \n",
        "                tex +=  list(di.values())[0] + ' ' \n",
        "                sta += list(di.values())[2]\n",
        "                dur += list(di.values())[2]\n",
        "\n",
        "                #print(\"iter_num= {} has tex:{} and sta ={} and counter =  {}\".format(j, tex, sta, SenCou))\n",
        "              else:\n",
        "                SenCou+=1\n",
        "                tex +=  list(di.values())[0] + ' ' \n",
        "                sta += list(di.values())[2]\n",
        "                dur += list(di.values())[2]\n",
        "                #print(\"iter_num= {} has tex:{} and sta ={} and counter =  {}\".format(j, tex, sta, SenCou))\n",
        "            elif SenCou ==3:\n",
        "              if '.' not in list(di.values())[0]: \n",
        "                tex +=  list(di.values())[0] + ' ' \n",
        "                sta += list(di.values())[2]\n",
        "                dur += list(di.values())[2]\n",
        "                #print(\"iter_num= {} has tex:{} and sta ={} and counter =  {}\".format(j, tex, sta, SenCou))\n",
        "              else:\n",
        "                SenCou+=1\n",
        "                tex +=  list(di.values())[0] + ' ' \n",
        "                sta += list(di.values())[2]\n",
        "                dur += list(di.values())[2]\n",
        "                tex_off = list(di.values())[0]\n",
        "                sta_off = list(di.values())[2]\n",
        "                #print(\"iter_num= {} has tex:{} and sta ={} and counter =  {} and tex_off : {} and sta_off ={}\".format(j, tex, sta, SenCou, tex_off, sta_off))\n",
        "            else :      # SenCou = 4\n",
        "              if '.' not in list(di.values())[0]: \n",
        "                SenCou=0\n",
        "                bag={'text':tex, 'start':sta, 'duration': dur}\n",
        "                ton.append(bag)\n",
        "                dur=0\n",
        "                tex = tex_off\n",
        "                tex +=  list(di.values())[0] + ' '\n",
        "                sta= sta - sta_off\n",
        "                #print(\"iter_num= {} has tex:{} and sta ={} and counter =  {} and tex_off : {} and sta_off ={}\".format(j, tex, sta, SenCou, tex_off, sta_off))\n",
        "              \n",
        "              else:\n",
        "                SenCou=0\n",
        "                bag={'text':tex, 'start':sta, 'duration': dur}\n",
        "                ton.append(bag)\n",
        "                dur=0\n",
        "                tex =tex_off\n",
        "                sta= sta - sta_off\n",
        "                s=sta\n",
        "                #print(\"iter_num= {} has tex:{} and sta ={} and counter =  {} and tex_off : {} and sta_off ={}\".format(j, tex, sta, SenCou, tex_off, sta_off))\n",
        "          else:\n",
        "            di =cap['video_captions'][j]\n",
        "            if SenCou <3:                              \n",
        "              if '.' not in list(di.values())[0]: \n",
        "                tex +=  list(di.values())[0] + ' ' \n",
        "                sta += list(di.values())[2]\n",
        "                dur += list(di.values())[2]\n",
        "                #print(\"iter_num= {} has no tex:{} and sta ={} and counter =  {}\".format(j, tex, sta, SenCou))\n",
        "              else:\n",
        "                SenCou+=1\n",
        "                tex +=  list(di.values())[0] + ' ' \n",
        "                sta += list(di.values())[2]\n",
        "                dur += list(di.values())[2]\n",
        "                #print(\"iter_num= {} has no tex:{} and sta ={} and counter =  {}\".format(j, tex, sta, SenCou))\n",
        "            elif SenCou ==3:\n",
        "              if '.' not in list(di.values())[0]: \n",
        "                tex +=  list(di.values())[0] + ' ' \n",
        "                sta += list(di.values())[2]\n",
        "                dur += list(di.values())[2]\n",
        "                #print(\"iter_num= {} has no tex:{} and sta ={} and counter =  {}\".format(j, tex, sta, SenCou))\n",
        "              else:\n",
        "                SenCou+=1\n",
        "                tex +=  list(di.values())[0] + ' ' \n",
        "                sta += list(di.values())[2]\n",
        "                dur += list(di.values())[2]\n",
        "                tex_off = list(di.values())[0]\n",
        "                sta_off = list(di.values())[2]\n",
        "                #print(\"iter_num= {} has no tex:{} and sta ={} and counter =  {} and tex_off : {} and sta_off ={}\".format(j, tex, sta, SenCou, tex_off, sta_off))\n",
        "            else :\n",
        "              #########\n",
        "              if '.' not in list(di.values())[0]: \n",
        "                SenCou=0\n",
        "                bag={'text':tex, 'start':cap['video_captions'][j-4]['start'], 'duration':dur}\n",
        "                ton.append(bag)\n",
        "                dur=0\n",
        "                tex =tex_off\n",
        "                tex +=  list(di.values())[0] + ' ' \n",
        "                sta= sta - sta_off\n",
        "                sar=sta\n",
        "                #print(\"iter_num= {} has tex:{} and sta ={} and counter =  {} and tex_off : {} and sta_off ={}\".format(j, tex, sta, SenCou, tex_off, sta_off))\n",
        "              \n",
        "              else:\n",
        "                SenCou=0\n",
        "                bag={'text':tex, 'start':cap['video_captions'][j-4]['start'], 'duration':dur}\n",
        "                ton.append(bag)\n",
        "                dur=0\n",
        "                tex=tex_off\n",
        "                sta= sta - sta_off\n",
        "                sar=sta\n",
        "                #print(\"iter_num= {} has no tex:{} and sta ={} and counter =  {} and tex_off : {} and sta_off ={}\".format(j, tex, sta, SenCou, tex_off, sta_off))\n",
        "        sta= sta - sta_off\n",
        "        bag={'text':tex, 'start':sta,'duration':dur}\n",
        "        dur=0\n",
        "        ton.append(bag)\n",
        "        cap['video_captions']=ton\n",
        "      return caps"
      ],
      "metadata": {
        "id": "b4iFtPVcw7Bn"
      },
      "execution_count": null,
      "outputs": []
    },
    {
      "cell_type": "code",
      "source": [
        "CaptionsWithStride = combine_processed(playlist_captions['videos'])"
      ],
      "metadata": {
        "id": "NgBkuwXzyrDl"
      },
      "execution_count": null,
      "outputs": []
    },
    {
      "cell_type": "code",
      "source": [
        "CaptionsWithStride"
      ],
      "metadata": {
        "id": "FdhZSFs7zEpy"
      },
      "execution_count": null,
      "outputs": []
    },
    {
      "cell_type": "code",
      "source": [
        "playlist_captions_With_Stride = {\n",
        "    \"playlist_id\" : playlist_captions['playlist_id'],\n",
        "    \"videos\" : CaptionsWithStride\n",
        "}"
      ],
      "metadata": {
        "id": "GHWUEc-2zPMm"
      },
      "execution_count": null,
      "outputs": []
    },
    {
      "cell_type": "code",
      "source": [
        "json_object = json.dumps(playlist_captions_With_Stride, indent=4)\n",
        "with open(f\"/content/drive/MyDrive/Youtube_captions/Captions_with_stride/{playlist_captions['playlist_id']}.json\", \"w\") as outfile:\n",
        "    outfile.write(json_object)"
      ],
      "metadata": {
        "id": "JG1RT5fsz0ce"
      },
      "execution_count": null,
      "outputs": []
    }
  ]
}