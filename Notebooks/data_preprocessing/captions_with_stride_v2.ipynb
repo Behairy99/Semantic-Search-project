{
  "nbformat": 4,
  "nbformat_minor": 0,
  "metadata": {
    "colab": {
      "provenance": [],
      "authorship_tag": "ABX9TyPhZzhKKcMJAJSmyv+fvf/f",
      "include_colab_link": true
    },
    "kernelspec": {
      "name": "python3",
      "display_name": "Python 3"
    },
    "language_info": {
      "name": "python"
    }
  },
  "cells": [
    {
      "cell_type": "markdown",
      "metadata": {
        "id": "view-in-github",
        "colab_type": "text"
      },
      "source": [
        "<a href=\"https://colab.research.google.com/github/abuelnasr0/Semantic-Search-project/blob/youtubecaptionswithstride/Notebooks/data_preprocessing/captions_with_stride_v2.ipynb\" target=\"_parent\"><img src=\"https://colab.research.google.com/assets/colab-badge.svg\" alt=\"Open In Colab\"/></a>"
      ]
    },
    {
      "cell_type": "code",
      "execution_count": 1,
      "metadata": {
        "colab": {
          "base_uri": "https://localhost:8080/"
        },
        "id": "O8PWJyDRrrks",
        "outputId": "bb9971b7-10ba-4423-adad-6a033462506d"
      },
      "outputs": [
        {
          "output_type": "stream",
          "name": "stdout",
          "text": [
            "Mounted at /content/drive\n"
          ]
        }
      ],
      "source": [
        "from google.colab import drive\n",
        "drive.mount('/content/drive')"
      ]
    },
    {
      "cell_type": "code",
      "source": [
        "PATH = '/content/drive/MyDrive/Graduation_project/Data/Youtube_captions/'"
      ],
      "metadata": {
        "id": "FGlxunb3ODY5"
      },
      "execution_count": 49,
      "outputs": []
    },
    {
      "cell_type": "code",
      "source": [
        "import os\n",
        "import json\n",
        "import glob\n",
        "\n",
        "playlists = []\n",
        "\n",
        "\n",
        "for filename in glob.glob(os.path.join(PATH+'Captions', '*.json')):\n",
        "    with open(filename, encoding='utf-8', mode='r') as json_file:\n",
        "      playlist_captions = json.load(json_file)\n",
        "      playlists.append(playlist_captions)\n"
      ],
      "metadata": {
        "id": "gjVbPW8LFkoR"
      },
      "execution_count": 50,
      "outputs": []
    },
    {
      "cell_type": "code",
      "source": [
        "def merge_with_stride(captions, merge_size, stride_size):\n",
        "  current = 0\n",
        "  len_captions = len(captions)\n",
        "  new_captions = []\n",
        "\n",
        "  while(current < len_captions):\n",
        "    new_caption = {}\n",
        "\n",
        "    end = min(current + merge_size, len_captions)\n",
        "\n",
        "    text = \"\"\n",
        "    start = captions[current]['start']\n",
        "    last_caption_start = captions[end- 1]['start']\n",
        "    duration = last_caption_start - start + captions[end - 1]['duration']\n",
        "\n",
        "    for i in range(current, end):\n",
        "      text += captions[i]['text']\n",
        "\n",
        "    new_caption['text'] = text\n",
        "    new_caption['start'] = start\n",
        "    new_caption['duration'] = duration\n",
        "\n",
        "    new_captions.append(new_caption)\n",
        "\n",
        "    current = current + merge_size - stride_size - 1\n",
        "  return new_captions"
      ],
      "metadata": {
        "id": "6sz_k49YHZQy"
      },
      "execution_count": 51,
      "outputs": []
    },
    {
      "cell_type": "code",
      "source": [
        "import copy\n",
        "\n",
        "playlists_copy = copy.deepcopy(playlists)\n",
        "for playlist in playlists_copy:\n",
        "  for video in playlist['videos']:\n",
        "    video['video_captions'] = merge_with_stride( video['video_captions'], 15, 4)\n"
      ],
      "metadata": {
        "id": "ichTSMrSKfod"
      },
      "execution_count": 52,
      "outputs": []
    },
    {
      "cell_type": "code",
      "source": [
        "for playlist in playlists_copy:\n",
        "  json_object = json.dumps(playlist, indent=4)\n",
        "  with open(f\"{PATH}Captions_with_stride/{playlist['playlist_id']}.json\", \"w\") as outfile:\n",
        "    outfile.write(json_object)\n"
      ],
      "metadata": {
        "id": "3s6bZ6r7Nlmd"
      },
      "execution_count": 59,
      "outputs": []
    }
  ]
}