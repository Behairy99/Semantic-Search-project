{
  "nbformat": 4,
  "nbformat_minor": 0,
  "metadata": {
    "colab": {
      "provenance": [],
      "authorship_tag": "ABX9TyPK3utUbL3qTmu+mgkDf/bP",
      "include_colab_link": true
    },
    "kernelspec": {
      "name": "python3",
      "display_name": "Python 3"
    },
    "language_info": {
      "name": "python"
    }
  },
  "cells": [
    {
      "cell_type": "markdown",
      "metadata": {
        "id": "view-in-github",
        "colab_type": "text"
      },
      "source": [
        "<a href=\"https://colab.research.google.com/github/abuelnasr0/Semantic-Search-project/blob/create-collection/Notebooks/vector_database/create_collections.ipynb\" target=\"_parent\"><img src=\"https://colab.research.google.com/assets/colab-badge.svg\" alt=\"Open In Colab\"/></a>"
      ]
    },
    {
      "cell_type": "code",
      "source": [
        "!pip install grpcio>=1.49.1 -q\n",
        "!pip install pymilvus==2.2.11 -q"
      ],
      "metadata": {
        "id": "jQ-yeJPNEfi8",
        "outputId": "90e5a25b-bb22-4a4f-ac77-5bb34b7c9857",
        "colab": {
          "base_uri": "https://localhost:8080/"
        }
      },
      "execution_count": 1,
      "outputs": [
        {
          "output_type": "stream",
          "name": "stdout",
          "text": [
            "\u001b[2K     \u001b[90m━━━━━━━━━━━━━━━━━━━━━━━━━━━━━━━━━━━━━━━\u001b[0m \u001b[32m144.8/144.8 kB\u001b[0m \u001b[31m6.8 MB/s\u001b[0m eta \u001b[36m0:00:00\u001b[0m\n",
            "\u001b[2K     \u001b[90m━━━━━━━━━━━━━━━━━━━━━━━━━━━━━━━━━━━━━━━━\u001b[0m \u001b[32m5.0/5.0 MB\u001b[0m \u001b[31m60.6 MB/s\u001b[0m eta \u001b[36m0:00:00\u001b[0m\n",
            "\u001b[2K     \u001b[90m━━━━━━━━━━━━━━━━━━━━━━━━━━━━━━━━━━━━━━━━\u001b[0m \u001b[32m53.9/53.9 kB\u001b[0m \u001b[31m5.0 MB/s\u001b[0m eta \u001b[36m0:00:00\u001b[0m\n",
            "\u001b[2K     \u001b[90m━━━━━━━━━━━━━━━━━━━━━━━━━━━━━━━━━━━━━━━━\u001b[0m \u001b[32m49.1/49.1 kB\u001b[0m \u001b[31m5.1 MB/s\u001b[0m eta \u001b[36m0:00:00\u001b[0m\n",
            "\u001b[?25h"
          ]
        }
      ]
    },
    {
      "cell_type": "code",
      "source": [
        "uri = \"\"\n",
        "token = \"\""
      ],
      "metadata": {
        "id": "oHLBMwttP5-e"
      },
      "execution_count": 1,
      "outputs": []
    },
    {
      "cell_type": "code",
      "source": [
        "from pymilvus import connections, Collection\n",
        "\n",
        "connections.connect(\"default\",\n",
        "                  uri=uri,\n",
        "                  token=token)"
      ],
      "metadata": {
        "id": "JJO4eTkMECy-"
      },
      "execution_count": 2,
      "outputs": []
    },
    {
      "cell_type": "code",
      "source": [
        "from pymilvus import FieldSchema, CollectionSchema, DataType, Collection\n",
        "\n",
        "\"\"\"\n",
        "A collection for youtube videos:\n",
        "fields : (video_id, start_time, text, embedding)\n",
        "\"\"\"\n",
        "# Define the fields in the collection first.\n",
        "youtube_fields = [\n",
        "    FieldSchema(name=\"id\", dtype=DataType.INT64, is_primary=True),\n",
        "    FieldSchema(name=\"video_id\", dtype=DataType.VARCHAR, max_length=128),\n",
        "    FieldSchema(name=\"embedding\", dtype=DataType.FLOAT_VECTOR, dim=768),\n",
        "    FieldSchema(name=\"start_time\", dtype=DataType.VARCHAR, max_length=8),\n",
        "    FieldSchema(name=\"text\", dtype=DataType.VARCHAR, max_length=512),\n",
        "]\n",
        "\n",
        "# Build the schema\n",
        "youtube_schema = CollectionSchema(\n",
        "    youtube_fields,\n",
        "    description=\"Schema of Youtube videos\"\n",
        ")\n",
        "\n",
        "# Reference the fields in the collection to be created as the schema.\n",
        "youtube_collection = Collection(\n",
        "    name=\"youtube_videos\",\n",
        "    description=\"The captions of the youtube videos\",\n",
        "    schema=youtube_schema\n",
        ")\n",
        "\n",
        "\"\"\"\n",
        "A collection for research Papers:\n",
        "fields : (paper_id, title, abstract, embedding)\n",
        "\"\"\"\n",
        "\n",
        "papers_fields = [\n",
        "    FieldSchema(name=\"paper_id\", dtype=DataType.INT64, is_primary=True),\n",
        "    FieldSchema(name=\"embedding\", dtype=DataType.FLOAT_VECTOR, dim=768),\n",
        "    FieldSchema(name=\"title\", dtype=DataType.VARCHAR, max_length=128),\n",
        "    FieldSchema(name=\"abstract\", dtype=DataType.VARCHAR, max_length=1024),\n",
        "]\n",
        "\n",
        "papers_schema = CollectionSchema(\n",
        "    papers_fields,\n",
        "    description=\"Schema of research papers\"\n",
        ")\n",
        "\n",
        "papers_collection = Collection(\n",
        "    name=\"research_papers\",\n",
        "    description=\"The title and abastrat of research papers\",\n",
        "    schema=papers_schema\n",
        ")\n",
        "\n",
        "\"\"\"\n",
        "Create index over the embeddings to search with them\n",
        "\"\"\"\n",
        "index_params = {\n",
        "    'index_type': 'AUTOINDEX',\n",
        "    'metric_type': 'IP',\n",
        "    'params': {}\n",
        "}\n",
        "\n",
        "youtube_collection.create_index(\"embedding\", index_params)\n",
        "papers_collection.create_index(\"embedding\", index_params)\n"
      ],
      "metadata": {
        "id": "m14nKiqjEOaR",
        "outputId": "5a814637-ee35-4f35-e866-793fc3dfadad",
        "colab": {
          "base_uri": "https://localhost:8080/"
        }
      },
      "execution_count": 4,
      "outputs": [
        {
          "output_type": "execute_result",
          "data": {
            "text/plain": [
              "Status(code=0, message=)"
            ]
          },
          "metadata": {},
          "execution_count": 4
        }
      ]
    }
  ]
}