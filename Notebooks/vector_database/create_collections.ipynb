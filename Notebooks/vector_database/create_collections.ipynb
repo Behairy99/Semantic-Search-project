{
  "nbformat": 4,
  "nbformat_minor": 0,
  "metadata": {
    "colab": {
      "provenance": [],
      "authorship_tag": "ABX9TyOd0vzZg0e23yzptCd7buQX",
      "include_colab_link": true
    },
    "kernelspec": {
      "name": "python3",
      "display_name": "Python 3"
    },
    "language_info": {
      "name": "python"
    }
  },
  "cells": [
    {
      "cell_type": "markdown",
      "metadata": {
        "id": "view-in-github",
        "colab_type": "text"
      },
      "source": [
        "<a href=\"https://colab.research.google.com/github/abuelnasr0/Semantic-Search-project/blob/create-collection/Notebooks/vector_database/create_collections.ipynb\" target=\"_parent\"><img src=\"https://colab.research.google.com/assets/colab-badge.svg\" alt=\"Open In Colab\"/></a>"
      ]
    },
    {
      "cell_type": "code",
      "source": [
        "!pip install grpcio>=1.49.1\n",
        "!pip install pymilvus==2.2.8"
      ],
      "metadata": {
        "id": "jQ-yeJPNEfi8"
      },
      "execution_count": null,
      "outputs": []
    },
    {
      "cell_type": "code",
      "source": [
        "uri = \"\"\n",
        "user = \"\"\n",
        "password = \"\""
      ],
      "metadata": {
        "id": "oHLBMwttP5-e"
      },
      "execution_count": null,
      "outputs": []
    },
    {
      "cell_type": "code",
      "source": [
        "from pymilvus import connections\n",
        "\n",
        "connections.connect(\n",
        "  alias=\"default\", \n",
        "  uri=uri, \n",
        "  secure=True,\n",
        "  user=user, \n",
        "  password=password\n",
        ")"
      ],
      "metadata": {
        "id": "JJO4eTkMECy-"
      },
      "execution_count": null,
      "outputs": []
    },
    {
      "cell_type": "code",
      "source": [
        "from pymilvus import FieldSchema, CollectionSchema, DataType, Collection\n",
        "\n",
        "\"\"\"\n",
        "A collection for youtube videos:\n",
        "fields : (video_id, start_time, text, embedding)\n",
        "\"\"\"\n",
        "# Define the fields in the collection first.\n",
        "youtube_fields = [\n",
        "    FieldSchema(name=\"id\", dtype=DataType.INT64, is_primary=True),\n",
        "    FieldSchema(name=\"video_id\", dtype=DataType.VARCHAR, max_length=128),   \n",
        "    FieldSchema(name=\"embedding\", dtype=DataType.FLOAT_VECTOR, dim=768),\n",
        "    FieldSchema(name=\"start_time\", dtype=DataType.VARCHAR, max_length=8),\n",
        "    FieldSchema(name=\"text\", dtype=DataType.VARCHAR, max_length=512), \n",
        "]\n",
        "\n",
        "# Build the schema\n",
        "youtube_schema = CollectionSchema(\n",
        "    youtube_fields,\n",
        "    description=\"Schema of Youtube videos\"\n",
        ")\n",
        "\n",
        "# Reference the fields in the collection to be created as the schema.\n",
        "youtube_collection = Collection(\n",
        "    name=\"youtube_videos\", \n",
        "    description=\"The captions of the youtube videos\",\n",
        "    schema=youtube_schema\n",
        ")\n",
        "\n",
        "\"\"\"\n",
        "A collection for research Papers:\n",
        "fields : (paper_id, title, abstract, embedding)\n",
        "\"\"\"\n",
        "\n",
        "papers_fields = [\n",
        "    FieldSchema(name=\"paper_id\", dtype=DataType.INT64, is_primary=True),\n",
        "    FieldSchema(name=\"embedding\", dtype=DataType.FLOAT_VECTOR, dim=768),\n",
        "    FieldSchema(name=\"title\", dtype=DataType.VARCHAR, max_length=128),\n",
        "    FieldSchema(name=\"abstract\", dtype=DataType.VARCHAR, max_length=1024), \n",
        "]\n",
        "\n",
        "papers_schema = CollectionSchema(\n",
        "    papers_fields,\n",
        "    description=\"Schema of research papers\"\n",
        ")\n",
        "\n",
        "papers_collection = Collection(\n",
        "    name=\"research_papers\", \n",
        "    description=\"The title and abastrat of research papers\",\n",
        "    schema=papers_schema\n",
        ")\n",
        "\n",
        "\"\"\"\n",
        "Create index over the embeddings to search with them\n",
        "\"\"\"\n",
        "index_params = {\n",
        "    'index_type': 'AUTOINDEX',\n",
        "    'metric_type': 'IP',\n",
        "    'params': {}\n",
        "}\n",
        "\n",
        "youtube_collection.create_index(\"embedding\", index_params)\n",
        "papers_collection.create_index(\"embedding\", index_params)\n"
      ],
      "metadata": {
        "id": "m14nKiqjEOaR"
      },
      "execution_count": null,
      "outputs": []
    }
  ]
}